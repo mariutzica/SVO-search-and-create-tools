{
 "cells": [
  {
   "cell_type": "markdown",
   "metadata": {},
   "source": [
    "# Introduction\n",
    "\n",
    "This notebook walks through the basics of how to create a variable representation within the Scientific Variables Ontology format. Please note that the steps presented here provide the initial steps for generating a variable representation and point to the **minimal requirements for describing a variable**. The variable representations should then be suitable to submit for revision to an SVO developer, who may subsequently ask for verifications to refine these concepts.\n",
    "\n",
    "In order to completely describe a scientific variable, it is necessary to specify both the _**Phenomenon**_, which is the physical object of the observation, and the _**Property**_, or characteristic of that phenomenon which one desires to describe. In addition, if the Phenomenon involves a _**Process**_ that is being quantified by the Property, then this should be specified as well.\n",
    "\n",
    "Without further ado, let's get started!"
   ]
  },
  {
   "cell_type": "markdown",
   "metadata": {},
   "source": [
    "## Preparation.\n",
    "\n",
    "Import the necessary packages and functions."
   ]
  },
  {
   "cell_type": "code",
   "execution_count": 6,
   "metadata": {},
   "outputs": [],
   "source": [
    "import user_interaction as ui"
   ]
  },
  {
   "cell_type": "markdown",
   "metadata": {},
   "source": [
    "## Step 1: Identify the variable you would like to describe.\n",
    "\n",
    "This is an interactive notebook. In the below steps we have provided an example answer for each step. Upon execution of the cells, you may change the inputs to suit your needs."
   ]
  },
  {
   "cell_type": "code",
   "execution_count": 7,
   "metadata": {},
   "outputs": [
    {
     "name": "stdin",
     "output_type": "stream",
     "text": [
      "What is the scientific variable you would like to describe?\n",
      "Please keep your description relatively brief. Examples include:\n",
      "crop yield, soil moisture, food availability, drought.\n",
      "\n",
      ">>>   temperature\n"
     ]
    }
   ],
   "source": [
    "variable_input = ui.ask_for_var_input()"
   ]
  },
  {
   "cell_type": "markdown",
   "metadata": {},
   "source": [
    "## Step 2: Analyze the input and provide an initial evaluation by SVO."
   ]
  },
  {
   "cell_type": "code",
   "execution_count": 3,
   "metadata": {},
   "outputs": [
    {
     "name": "stdout",
     "output_type": "stream",
     "text": [
      "Okay. You entered temperature.\n",
      "Let me look up some information on this variable.\n",
      "\n",
      "Unfortunately this step has not been optimized yet, so it may take a little while.\n",
      "Thank you for your patience!\n",
      "I found some variable(s) already in the ontology.\n",
      "They are listed below. If you see one or more * by a search result,\n",
      "it means that result has some of the terms you were interested in\n",
      "as part of it main object of observation. This means it is a great match!\n",
      "The more *s you see, the better the match. If you see no *s, then\n",
      "the terms you were searching for were found in the context of the\n",
      "variable returned.\n"
     ]
    },
    {
     "data": {
      "text/html": [
       "<table border=\"1\" class=\"dataframe\">\n",
       "  <thead>\n",
       "    <tr style=\"text-align: right;\">\n",
       "      <th>variable label</th>\n",
       "      <th>rank</th>\n",
       "      <th>term combination</th>\n",
       "      <th>main</th>\n",
       "    </tr>\n",
       "  </thead>\n",
       "  <tbody>\n",
       "    <tr>\n",
       "      <td>air__temperature</td>\n",
       "      <td>2</td>\n",
       "      <td>temperature</td>\n",
       "      <td>*</td>\n",
       "    </tr>\n",
       "    <tr>\n",
       "      <td>snow__temperature</td>\n",
       "      <td>2</td>\n",
       "      <td>temperature</td>\n",
       "      <td>*</td>\n",
       "    </tr>\n",
       "    <tr>\n",
       "      <td>soil__temperature</td>\n",
       "      <td>2</td>\n",
       "      <td>temperature</td>\n",
       "      <td>*</td>\n",
       "    </tr>\n",
       "    <tr>\n",
       "      <td>sea_water__temperature</td>\n",
       "      <td>2</td>\n",
       "      <td>temperature</td>\n",
       "      <td>*</td>\n",
       "    </tr>\n",
       "    <tr>\n",
       "      <td>glacier_ice__temperature</td>\n",
       "      <td>2</td>\n",
       "      <td>temperature</td>\n",
       "      <td>*</td>\n",
       "    </tr>\n",
       "    <tr>\n",
       "      <td>glacier_top__temperature</td>\n",
       "      <td>2</td>\n",
       "      <td>temperature</td>\n",
       "      <td>*</td>\n",
       "    </tr>\n",
       "    <tr>\n",
       "      <td>land_surface__temperature</td>\n",
       "      <td>2</td>\n",
       "      <td>temperature</td>\n",
       "      <td>*</td>\n",
       "    </tr>\n",
       "    <tr>\n",
       "      <td>snowpack_top__temperature</td>\n",
       "      <td>2</td>\n",
       "      <td>temperature</td>\n",
       "      <td>*</td>\n",
       "    </tr>\n",
       "    <tr>\n",
       "      <td>channel_water__temperature</td>\n",
       "      <td>2</td>\n",
       "      <td>temperature</td>\n",
       "      <td>*</td>\n",
       "    </tr>\n",
       "    <tr>\n",
       "      <td>atmosphere_air__temperature</td>\n",
       "      <td>2</td>\n",
       "      <td>temperature</td>\n",
       "      <td>*</td>\n",
       "    </tr>\n",
       "  </tbody>\n",
       "</table>"
      ],
      "text/plain": [
       "<IPython.core.display.HTML object>"
      ]
     },
     "metadata": {},
     "output_type": "display_data"
    },
    {
     "name": "stdout",
     "output_type": "stream",
     "text": [
      "The following variable components were found in the input:\n",
      "Phenomenon : not found   ✗\n",
      "Process : not found   ✗\n",
      "Property :  temperature  ✓\n",
      "You inputted at least one property, but you did not input a\n",
      "phenomenon. To find some suggestions, keep working through\n",
      "this notebook.\n"
     ]
    }
   ],
   "source": [
    "variable_evaluation = ui.provide_initial_evaluation(variable_input)"
   ]
  },
  {
   "cell_type": "markdown",
   "metadata": {},
   "source": [
    "## Step 3: Make some suggestions on how to fill in the gaps."
   ]
  },
  {
   "cell_type": "code",
   "execution_count": 5,
   "metadata": {},
   "outputs": [
    {
     "name": "stdout",
     "output_type": "stream",
     "text": [
      "Since I was able to find some relevant variables in SVO, \n",
      "let me look up some suggestions for you on how to complete \n",
      "your variable based on what we already have ...\n",
      "\n",
      "You were missing a phenomenon but you had a property present.\n",
      "Here are some Phenomenon associations I found for the property\n",
      "temperature : \n",
      "air, atmosphere, atmosphere_bottom, atmosphere_top, channel,\n",
      "channel_bottom, chocolate, compound, conduit, earth, earth_black-body,\n",
      "earth_crust, earth_equator, earth_interior, earth_mantle,\n",
      "earth_surface, element, glacier, glacier_bed, glacier_bottom,\n",
      "glacier_top, glacier_top_surface, head, hydrometeor, ice, ice_bottom,\n",
      "ice_melting-point, ice_surface, iron, land, land_surface,\n",
      "land_surface_skin, material, mixture, planet, sea, sea_bottom,\n",
      "sea_surface, skin, snow, snowpack, snowpack_bottom, snowpack_top,\n",
      "soil, source, water, water_boiling-point, water_freezing-point,\n",
      "water_surface, water~liquid, water~liquid~20C, water~vapor,\n",
      "water~vapor~20C\n",
      "\n",
      "If you still don't see the information you are looking to describe,\n",
      "please head on over to the next step where we will do further analysis\n",
      "of your variable using WiktiWordNet and Wikipedia.\n"
     ]
    }
   ],
   "source": [
    "ui.suggest_missing_components(variable_input, variable_evaluation)"
   ]
  },
  {
   "cell_type": "code",
   "execution_count": 4,
   "metadata": {},
   "outputs": [
    {
     "name": "stdout",
     "output_type": "stream",
     "text": [
      "I do not have any additional information to provide at this time.\n"
     ]
    }
   ],
   "source": [
    "ui.categorize_uncategorized_terms(variable_input, variable_evaluation)"
   ]
  },
  {
   "cell_type": "code",
   "execution_count": 2,
   "metadata": {},
   "outputs": [
    {
     "name": "stdout",
     "output_type": "stream",
     "text": [
      "\n",
      "I found the following definitions that could mean soil is a Phenomenon:\n",
      "A mixture of sand and organic material, used to support plant growth.\n",
      "The unconsolidated mineral or organic material on the immediate\n",
      "surface of the earth that serves as a natural medium for the growth of\n",
      "land plants.  The unconsolidated mineral or organic matter on the\n",
      "surface of the earth that has been subjected to and shows effects of\n",
      "genetic and environmental factors of: climate (including water and\n",
      "temperature effects), and macro- and microorganisms, conditioned by\n",
      "relief, acting on parent material over a period of time\n"
     ]
    }
   ],
   "source": [
    "ui.get_suggested_category_for_term('soil')"
   ]
  },
  {
   "cell_type": "markdown",
   "metadata": {},
   "source": [
    "## Step 4: Get more specific about the component terms."
   ]
  },
  {
   "cell_type": "code",
   "execution_count": 10,
   "metadata": {},
   "outputs": [
    {
     "name": "stdout",
     "output_type": "stream",
     "text": [
      "Here are some suggestions on how to make your entry more \n",
      "specific (from SVO):\n",
      "For the term temperature I found the following:\n",
      "When temperature is a Property, its more specific types could be: \n",
      "virtual_potential_temperature, pressure_melting-point_temperature,\n",
      "equivalent, equivalent_potential_temperature, potential, freezing-\n",
      "point, freezing-point_temperature,\n",
      "isothermal_compressibility_reference_temperature, potential,\n",
      "potential_temperature, bubble-point, bubble-point_temperature,\n",
      "melting-point, melting-point_temperature, boiling-point, boiling-\n",
      "point_temperature, equivalent, equivalent_temperature,\n",
      "pressure_temperature, average_temperature, diurnal,\n",
      "diurnal_temperature, heat-content_temperature, threshold,\n",
      "threshold_temperature, effective_radiative_temperature, power-law-\n",
      "fluid_viscosity_reference_temperature, frost-point, frost-\n",
      "point_temperature, threshold, degree-day_threshold_temperature,\n",
      "virtual_temperature, reference, reference_temperature,\n",
      "reference_depth_temperature, dew-point, dew-point_temperature\n"
     ]
    }
   ],
   "source": [
    "ui.get_more_specific(variable_input, variable_evaluation)"
   ]
  },
  {
   "cell_type": "markdown",
   "metadata": {},
   "source": [
    "## Optional: Explore variable components (phenomena or properties of interest) based on a broader interest, such as a system state."
   ]
  },
  {
   "cell_type": "code",
   "execution_count": 2,
   "metadata": {},
   "outputs": [
    {
     "name": "stdout",
     "output_type": "stream",
     "text": [
      "I found a bit of documentation on drought.\n",
      "Here is what my source says:\n",
      "\n",
      " a drought or drouth is an event of prolonged shortages in the water\n",
      "supply, whether atmospheric (below-average precipitation), surface\n",
      "water or ground water\n",
      "\n",
      "\n",
      "I found the following terms that could be a Phenomenon:\n",
      "water supply, water\n",
      "I found the following terms that could be a Process:\n",
      "water supply, precipitation, water\n",
      "Now that you have some ideas for components of relevant variables,\n",
      "try doing a search for these terms in the ontology to see what is there.\n"
     ]
    }
   ],
   "source": [
    "ui.look_up_variable_components_for_system_state('drought')"
   ]
  },
  {
   "cell_type": "code",
   "execution_count": 1,
   "metadata": {},
   "outputs": [
    {
     "name": "stdout",
     "output_type": "stream",
     "text": [
      "I found a bit of documentation on flooding.\n",
      "I did not find an exact match, but I did find some content on \n",
      "flood.\n",
      "Here is what my source says:\n",
      "\n",
      " a flood is an overflow of water that submerges land that is usually\n",
      "dry\n",
      "\n",
      "\n",
      "I found the following terms that could be a Phenomenon:\n",
      "water, land\n",
      "I found the following terms that could be a Process:\n",
      "flood, overflow, water, land\n",
      "Now that you have some ideas for components of relevant variables,\n",
      "try doing a search for these terms in the ontology to see what is there.\n"
     ]
    }
   ],
   "source": [
    "ui.look_up_variable_components_for_system_state('flooding')"
   ]
  },
  {
   "cell_type": "code",
   "execution_count": null,
   "metadata": {},
   "outputs": [],
   "source": []
  }
 ],
 "metadata": {
  "kernelspec": {
   "display_name": "Python 3",
   "language": "python",
   "name": "python3"
  },
  "language_info": {
   "codemirror_mode": {
    "name": "ipython",
    "version": 3
   },
   "file_extension": ".py",
   "mimetype": "text/x-python",
   "name": "python",
   "nbconvert_exporter": "python",
   "pygments_lexer": "ipython3",
   "version": "3.7.4"
  }
 },
 "nbformat": 4,
 "nbformat_minor": 4
}
